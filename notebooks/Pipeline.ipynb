{
 "cells": [
  {
   "cell_type": "code",
   "execution_count": 1,
   "metadata": {},
   "outputs": [],
   "source": [
    "import sys\n",
    "sys.path.append('../')\n",
    "from src.kiss_data import KissRawData"
   ]
  },
  {
   "cell_type": "code",
   "execution_count": 2,
   "metadata": {},
   "outputs": [
    {
     "data": {
      "text/plain": [
       "KissRawData('/data/KISS/Raw/nika2c-data3/KISS/X20190301_1045_S0137_Moon_SCIENCEMAP')"
      ]
     },
     "execution_count": 2,
     "metadata": {},
     "output_type": "execute_result"
    }
   ],
   "source": [
    "kd = KissRawData('/data/KISS/Raw/nika2c-data3/KISS/X20190301_1045_S0137_Moon_SCIENCEMAP')\n",
    "kd"
   ]
  },
  {
   "cell_type": "code",
   "execution_count": 3,
   "metadata": {},
   "outputs": [
    {
     "data": {
      "text/plain": [
       "2241536"
      ]
     },
     "execution_count": 3,
     "metadata": {},
     "output_type": "execute_result"
    }
   ],
   "source": [
    "len(kd)"
   ]
  },
  {
   "cell_type": "code",
   "execution_count": 4,
   "metadata": {},
   "outputs": [
    {
     "data": {
      "text/plain": [
       "TName(ComputedDataSc=['sample', 'indice', 'sample_dur', 't_mac', 'A_time', 'A_hours', 'A_time_ntp', 'A_time_pps', 'A_pulse_pps', 'A_freq', 'A_masq', 'A_n_inj', 'B_time', 'A_n_mes', 'B_hours', 'B_time_ntp', 'B_time_pps', 'B_pulse_pps', 'B_freq', 'B_masq', 'C_time', 'B_n_inj', 'B_n_mes', 'C_hours', 'C_time_ntp', 'C_time_pps', 'C_pulse_pps', 'C_motor1_step', 'C_motor2_step', 'C_motor1_pos', 'C_motor2_pos', 'C_laser1_pos', 'C_laser2_pos', 'F_azimuth', 'F_elevation'], ComputedDataSd=['I', 'Q', 'RF_deco', 'RF_didq', 'F_tone', 'amplitude', 'logampl', 'ph_IQ', 'ph_rel', 'k_flag', 'sampleU'], ComputedDataUc=['E_X', 'E_status', 'F_state', 'F_nbsubsc', 'F_subsc', 'G_j1', 'G_j2', 'G_j3', 'G_Jpi'], ComputedDataUd=['u_phi', 'u_width', 'u_itfamp'], RawDataDetector=['KA000', 'KA001', 'KA002', 'KA003', 'KA004', 'KA005', 'KA006', 'KA007', 'KA008', 'KA009', 'KA010', 'KA011', 'KA012', 'KA013', 'KA014', 'KA015', 'KA016', 'KA017', 'KA018', 'KA019', 'KA020', 'KA021', 'KA022', 'KA023', 'KA024', 'KA025', 'KA026', 'KA027', 'KA028', 'KA029', 'KA030', 'KA031', 'KA032', 'KA033', 'KA034', 'KA035', 'KA036', 'KA037', 'KA038', 'KA039', 'KA040', 'KA041', 'KA042', 'KA043', 'KA044', 'KA045', 'KA046', 'KA047', 'KA048', 'KA049', 'KA050', 'KA051', 'KA052', 'KA053', 'KA054', 'KA055', 'KA056', 'KA057', 'KA058', 'KA059', 'KA060', 'KA061', 'KA062', 'KA063', 'KA064', 'KA065', 'KA066', 'KA067', 'KA068', 'KA069', 'KA070', 'KA071', 'KA072', 'KA073', 'KA074', 'KA075', 'KA076', 'KA077', 'KA078', 'KA079', 'KA080', 'KA081', 'KA082', 'KA083', 'KA084', 'KA085', 'KA086', 'KA087', 'KA088', 'KA089', 'KA090', 'KA091', 'KA092', 'KA093', 'KA094', 'KA095', 'KA096', 'KA097', 'KA098', 'KA099', 'KA100', 'KA101', 'KA102', 'KA103', 'KA104', 'KA105', 'KA106', 'KA107', 'KA108', 'KA109', 'KA110', 'KA111', 'KA112', 'KA113', 'KA114', 'KA115', 'KA116', 'KA117', 'KA118', 'KA119', 'KA120', 'KA121', 'KA122', 'KA123', 'KA124', 'KA125', 'KA126', 'KA127', 'KA128', 'KA129', 'KA130', 'KA131', 'KA132', 'KA133', 'KA134', 'KA135', 'KA136', 'KA137', 'KA138', 'KA139', 'KA140', 'KA141', 'KA142', 'KA143', 'KA144', 'KA145', 'KA146', 'KA147', 'KA148', 'KA149', 'KA150', 'KA151', 'KA152', 'KA153', 'KA154', 'KA155', 'KA156', 'KA157', 'KA158', 'KA159', 'KA160', 'KA161', 'KA162', 'KA163', 'KA164', 'KA165', 'KA166', 'KA167', 'KA168', 'KA169', 'KA170', 'KA171', 'KA172', 'KA173', 'KA174', 'KA175', 'KA176', 'KA177', 'KA178', 'KA179', 'KA180', 'KA181', 'KA182', 'KB000', 'KB001', 'KB002', 'KB003', 'KB004', 'KB005', 'KB006', 'KB007', 'KB008', 'KB009', 'KB010', 'KB011', 'KB012', 'KB013', 'KB014', 'KB015', 'KB016', 'KB017', 'KB018', 'KB019', 'KB020', 'KB021', 'KB022', 'KB023', 'KB024', 'KB025', 'KB026', 'KB027', 'KB028', 'KB029', 'KB030', 'KB031', 'KB032', 'KB033', 'KB034', 'KB035', 'KB036', 'KB037', 'KB038', 'KB039', 'KB040', 'KB041', 'KB042', 'KB043', 'KB044', 'KB045', 'KB046', 'KB047', 'KB048', 'KB049', 'KB050', 'KB051', 'KB052', 'KB053', 'KB054', 'KB055', 'KB056', 'KB057', 'KB058', 'KB059', 'KB060', 'KB061', 'KB062', 'KB063', 'KB064', 'KB065', 'KB066', 'KB067', 'KB068', 'KB069', 'KB070', 'KB071', 'KB072', 'KB073', 'KB074', 'KB075', 'KB076', 'KB077', 'KB078', 'KB079', 'KB080', 'KB081', 'KB082', 'KB083', 'KB084', 'KB085', 'KB086', 'KB087', 'KB088', 'KB089', 'KB090', 'KB091', 'KB092', 'KB093', 'KB094', 'KB095', 'KB096', 'KB097', 'KB098', 'KB099', 'KB100', 'KB101', 'KB102', 'KB103', 'KB104', 'KB105', 'KB106', 'KB107', 'KB108', 'KB109', 'KB110', 'KB111', 'KB112', 'KB113', 'KB114', 'KB115', 'KB116', 'KB117', 'KB118', 'KB119', 'KB120', 'KB121', 'KB122', 'KB123', 'KB124', 'KB125', 'KB126', 'KB127', 'KB128', 'KB129', 'KB130', 'KB131', 'KB132', 'KB133', 'KB134', 'KB135', 'KB136', 'KB137', 'KB138', 'KB139', 'KB140', 'KB141', 'KB142', 'KB143', 'KB144', 'KB145', 'KB146', 'KB147', 'KB148', 'KB149', 'KB150', 'KB151', 'KB152', 'KB153', 'KB154', 'KB155', 'KB156', 'KB157', 'KB158', 'KB159', 'KB160', 'KB161', 'KB162', 'KB163', 'KB164', 'KB165', 'KB166', 'KB167', 'KB168', 'KB169', 'KB170', 'KB171', 'KB172', 'KB173', 'KB174', 'KB175', 'KB176', 'KB177', 'KB178', 'KB179', 'KB180', 'KB181', 'KB182', 'KB183', 'KB184', 'KB185', 'KB186', 'KB187', 'KB188', 'KB189', 'KB190', 'KB191', 'KB192', 'KB193', 'KB194', 'KB195', 'KB196', 'KB197', 'KB198', 'KB199', 'KB200', 'KB201', 'KB202', 'KB203', 'KB204', 'KB205', 'KB206', 'KB207', 'KB208', 'KB209', 'KB210', 'KB211', 'KB212', 'KB213', 'KB214', 'KB215', 'KB216', 'KB217', 'KB218', 'KB219', 'KB220', 'KB221', 'KB222', 'KB223', 'KB224', 'KB225', 'KB226', 'KB227', 'KB228', 'KB229'])"
      ]
     },
     "execution_count": 4,
     "metadata": {},
     "output_type": "execute_result"
    }
   ],
   "source": [
    "kd.names"
   ]
  },
  {
   "cell_type": "code",
   "execution_count": 5,
   "metadata": {},
   "outputs": [
    {
     "data": {
      "text/plain": [
       "TconfigHeader(size_MotorModulTable=8192, nb_brut_ud=3, nb_boites_mesure=8, nb_detecteurs=800, nb_pt_bloc=1024, nb_sample_fichier=0, nb_det_mini=0, nb_brut_uc=9, version_header=4, nb_param_c=72, nb_param_d=7, lg_header_util=75400, nb_brut_c=32, nb_brut_d=2, nb_brut_periode=0, nb_data_c=0, nb_data_d=0, nb_champ_reglage=17)"
      ]
     },
     "execution_count": 5,
     "metadata": {},
     "output_type": "execute_result"
    }
   ],
   "source": [
    "kd.header"
   ]
  },
  {
   "cell_type": "code",
   "execution_count": 6,
   "metadata": {},
   "outputs": [
    {
     "data": {
      "text/html": [
       "<i>Table masked=True length=800</i>\n",
       "<table id=\"table140130520754104\" class=\"table-striped table-bordered table-condensed\">\n",
       "<thead><tr><th>index</th><th>typedet</th><th>frequency</th><th>level</th><th>width</th><th>flag</th><th>namedet</th><th>masqdet</th><th>acqbox</th><th>array</th></tr></thead>\n",
       "<thead><tr><th>int64</th><th>int8</th><th>int32</th><th>int32</th><th>int32</th><th>int32</th><th>str8</th><th>int8</th><th>int8</th><th>int8</th></tr></thead>\n",
       "<tr><td>0</td><td>1</td><td>367100790</td><td>3</td><td>0</td><td>0</td><td>KA000</td><td>0</td><td>1</td><td>1</td></tr>\n",
       "<tr><td>1</td><td>1</td><td>367253380</td><td>3</td><td>0</td><td>0</td><td>KA001</td><td>0</td><td>1</td><td>1</td></tr>\n",
       "<tr><td>2</td><td>1</td><td>367394520</td><td>3</td><td>0</td><td>0</td><td>KA002</td><td>0</td><td>1</td><td>1</td></tr>\n",
       "<tr><td>3</td><td>1</td><td>367741660</td><td>3</td><td>0</td><td>0</td><td>KA003</td><td>0</td><td>1</td><td>1</td></tr>\n",
       "<tr><td>4</td><td>1</td><td>368775440</td><td>3</td><td>0</td><td>0</td><td>KA004</td><td>0</td><td>1</td><td>1</td></tr>\n",
       "<tr><td>5</td><td>1</td><td>369374350</td><td>3</td><td>0</td><td>0</td><td>KA005</td><td>0</td><td>1</td><td>1</td></tr>\n",
       "<tr><td>6</td><td>1</td><td>370797230</td><td>3</td><td>0</td><td>0</td><td>KA006</td><td>0</td><td>1</td><td>1</td></tr>\n",
       "<tr><td>7</td><td>1</td><td>370797230</td><td>3</td><td>0</td><td>0</td><td>KA007</td><td>0</td><td>1</td><td>1</td></tr>\n",
       "<tr><td>8</td><td>1</td><td>371071890</td><td>3</td><td>0</td><td>0</td><td>KA008</td><td>0</td><td>1</td><td>1</td></tr>\n",
       "<tr><td>9</td><td>1</td><td>371209220</td><td>3</td><td>0</td><td>0</td><td>KA009</td><td>0</td><td>1</td><td>1</td></tr>\n",
       "<tr><td>...</td><td>...</td><td>...</td><td>...</td><td>...</td><td>...</td><td>...</td><td>...</td><td>...</td><td>...</td></tr>\n",
       "<tr><td>--</td><td>0</td><td>0</td><td>0</td><td>0</td><td>0</td><td>NB158</td><td>0</td><td>2</td><td>1</td></tr>\n",
       "<tr><td>--</td><td>0</td><td>0</td><td>0</td><td>0</td><td>0</td><td>NB159</td><td>0</td><td>2</td><td>1</td></tr>\n",
       "<tr><td>--</td><td>0</td><td>0</td><td>0</td><td>0</td><td>0</td><td>NB160</td><td>0</td><td>2</td><td>1</td></tr>\n",
       "<tr><td>--</td><td>0</td><td>0</td><td>0</td><td>0</td><td>0</td><td>NB161</td><td>0</td><td>2</td><td>1</td></tr>\n",
       "<tr><td>--</td><td>0</td><td>0</td><td>0</td><td>0</td><td>0</td><td>NB162</td><td>0</td><td>2</td><td>1</td></tr>\n",
       "<tr><td>--</td><td>0</td><td>0</td><td>0</td><td>0</td><td>0</td><td>NB163</td><td>0</td><td>2</td><td>1</td></tr>\n",
       "<tr><td>--</td><td>0</td><td>0</td><td>0</td><td>0</td><td>0</td><td>NB164</td><td>0</td><td>2</td><td>1</td></tr>\n",
       "<tr><td>--</td><td>0</td><td>0</td><td>0</td><td>0</td><td>0</td><td>NB165</td><td>0</td><td>2</td><td>1</td></tr>\n",
       "<tr><td>--</td><td>0</td><td>0</td><td>0</td><td>0</td><td>0</td><td>NB166</td><td>0</td><td>2</td><td>1</td></tr>\n",
       "<tr><td>--</td><td>0</td><td>0</td><td>0</td><td>0</td><td>0</td><td>NB167</td><td>0</td><td>2</td><td>1</td></tr>\n",
       "</table>"
      ],
      "text/plain": [
       "<Table masked=True length=800>\n",
       "index typedet frequency level width  flag namedet masqdet acqbox array\n",
       "int64   int8    int32   int32 int32 int32   str8    int8   int8   int8\n",
       "----- ------- --------- ----- ----- ----- ------- ------- ------ -----\n",
       "    0       1 367100790     3     0     0   KA000       0      1     1\n",
       "    1       1 367253380     3     0     0   KA001       0      1     1\n",
       "    2       1 367394520     3     0     0   KA002       0      1     1\n",
       "    3       1 367741660     3     0     0   KA003       0      1     1\n",
       "    4       1 368775440     3     0     0   KA004       0      1     1\n",
       "    5       1 369374350     3     0     0   KA005       0      1     1\n",
       "    6       1 370797230     3     0     0   KA006       0      1     1\n",
       "    7       1 370797230     3     0     0   KA007       0      1     1\n",
       "    8       1 371071890     3     0     0   KA008       0      1     1\n",
       "    9       1 371209220     3     0     0   KA009       0      1     1\n",
       "  ...     ...       ...   ...   ...   ...     ...     ...    ...   ...\n",
       "   --       0         0     0     0     0   NB158       0      2     1\n",
       "   --       0         0     0     0     0   NB159       0      2     1\n",
       "   --       0         0     0     0     0   NB160       0      2     1\n",
       "   --       0         0     0     0     0   NB161       0      2     1\n",
       "   --       0         0     0     0     0   NB162       0      2     1\n",
       "   --       0         0     0     0     0   NB163       0      2     1\n",
       "   --       0         0     0     0     0   NB164       0      2     1\n",
       "   --       0         0     0     0     0   NB165       0      2     1\n",
       "   --       0         0     0     0     0   NB166       0      2     1\n",
       "   --       0         0     0     0     0   NB167       0      2     1"
      ]
     },
     "execution_count": 6,
     "metadata": {},
     "output_type": "execute_result"
    }
   ],
   "source": [
    "kd.kidpar"
   ]
  },
  {
   "cell_type": "code",
   "execution_count": null,
   "metadata": {},
   "outputs": [],
   "source": [
    "kd.read_data()"
   ]
  },
  {
   "cell_type": "code",
   "execution_count": null,
   "metadata": {},
   "outputs": [],
   "source": [
    "kd.calib_raw()"
   ]
  },
  {
   "cell_type": "code",
   "execution_count": null,
   "metadata": {},
   "outputs": [],
   "source": [
    "fig = kd.calib_plot()\n",
    "fig.savefig('calib.pdf')"
   ]
  },
  {
   "cell_type": "code",
   "execution_count": null,
   "metadata": {},
   "outputs": [],
   "source": []
  }
 ],
 "metadata": {
  "kernelspec": {
   "display_name": "Python 3",
   "language": "python",
   "name": "python3"
  },
  "language_info": {
   "codemirror_mode": {
    "name": "ipython",
    "version": 3
   },
   "file_extension": ".py",
   "mimetype": "text/x-python",
   "name": "python",
   "nbconvert_exporter": "python",
   "pygments_lexer": "ipython3",
   "version": "3.6.4"
  }
 },
 "nbformat": 4,
 "nbformat_minor": 2
}
