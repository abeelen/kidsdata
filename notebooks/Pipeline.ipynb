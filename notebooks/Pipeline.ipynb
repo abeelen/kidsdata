{
 "cells": [
  {
   "cell_type": "code",
   "execution_count": null,
   "metadata": {},
   "outputs": [],
   "source": [
    "%matplotlib inline\n",
    "from kidsdata import KissRawData, list_scan, get_scan"
   ]
  },
  {
   "cell_type": "code",
   "execution_count": null,
   "metadata": {},
   "outputs": [],
   "source": [
    "# Temporary import for dev\n",
    "import numpy as np\n",
    "import matplotlib.pyplot as plt\n",
    "from astropy.wcs import WCS"
   ]
  },
  {
   "cell_type": "markdown",
   "metadata": {},
   "source": [
    "List available scans"
   ]
  },
  {
   "cell_type": "code",
   "execution_count": null,
   "metadata": {},
   "outputs": [],
   "source": [
    "list_scan(source='Moon', obsmode=\"SKYRASTER\", scan__gt=430)"
   ]
  },
  {
   "cell_type": "markdown",
   "metadata": {},
   "source": [
    "Reading of the file header"
   ]
  },
  {
   "cell_type": "code",
   "execution_count": null,
   "metadata": {},
   "outputs": [],
   "source": [
    "kd = KissRawData(get_scan(431))\n",
    "kd"
   ]
  },
  {
   "cell_type": "markdown",
   "metadata": {},
   "source": [
    "Basic Properties of the object"
   ]
  },
  {
   "cell_type": "code",
   "execution_count": null,
   "metadata": {
    "scrolled": true
   },
   "outputs": [],
   "source": [
    "kd.info()"
   ]
  },
  {
   "cell_type": "code",
   "execution_count": null,
   "metadata": {},
   "outputs": [],
   "source": [
    "print(len(kd))"
   ]
  },
  {
   "cell_type": "code",
   "execution_count": null,
   "metadata": {},
   "outputs": [],
   "source": [
    "kd.names # Available data in the file"
   ]
  },
  {
   "cell_type": "code",
   "execution_count": null,
   "metadata": {},
   "outputs": [],
   "source": [
    "kd.header # Header from the binary file"
   ]
  },
  {
   "cell_type": "code",
   "execution_count": null,
   "metadata": {},
   "outputs": [],
   "source": [
    "kd.kidpar # Basic kidpar present in the file"
   ]
  },
  {
   "cell_type": "code",
   "execution_count": null,
   "metadata": {},
   "outputs": [],
   "source": [
    "## This would read everything... \n",
    "# kd.read_data()"
   ]
  },
  {
   "cell_type": "code",
   "execution_count": null,
   "metadata": {},
   "outputs": [],
   "source": [
    "# Instead read only a subset : All common data + I & Q, for the first 10 kids of box B\n",
    "\n",
    "list_data = \" \".join(kd.names.DataSc +\n",
    "                     kd.names.DataUc +\n",
    "                     [\"I\", \"Q\"])\n",
    "\n",
    "# kd.read_data(list_data=list_data, list_detector=kd.get_list_detector('B')[0:10], silent=True)\n",
    "kd.read_data(list_data=list_data, list_detector=kd.get_list_detector('B'), silent=True)\n"
   ]
  },
  {
   "cell_type": "markdown",
   "metadata": {},
   "source": [
    "Not formally needed but we can calibrate the data manualy here"
   ]
  },
  {
   "cell_type": "code",
   "execution_count": null,
   "metadata": {},
   "outputs": [],
   "source": [
    "kd.calib_raw()"
   ]
  },
  {
   "cell_type": "code",
   "execution_count": null,
   "metadata": {},
   "outputs": [],
   "source": [
    "fig = kd.plot_calib(2)\n",
    "# fig.savefig('calib.pdf')"
   ]
  },
  {
   "cell_type": "markdown",
   "metadata": {},
   "source": [
    "Compute the new diff coordinates, generate beammaps and plot them"
   ]
  },
  {
   "cell_type": "code",
   "execution_count": null,
   "metadata": {},
   "outputs": [],
   "source": [
    "fig_beammap, (datas, wcs, popts) = kd.plot_beammap(coord='pdiff')"
   ]
  },
  {
   "cell_type": "code",
   "execution_count": null,
   "metadata": {},
   "outputs": [],
   "source": [
    "# Manualy tweak the coordinates to center them\n",
    "for key in ['x0', 'y0']:\n",
    "    popts[key] -= np.nanmedian(popts[key])\n",
    "kd._extended_kidpar = popts # save the geometry\n",
    "kd.kidpar.loc[kd.list_detector]"
   ]
  },
  {
   "cell_type": "code",
   "execution_count": null,
   "metadata": {},
   "outputs": [],
   "source": [
    "fig_geometry, fig_fwhm = kd.plot_kidpar() # plot the geometry"
   ]
  },
  {
   "cell_type": "code",
   "execution_count": null,
   "metadata": {},
   "outputs": [],
   "source": [
    "# select good detector, ie within 60 arcmin of the center and fwhm 25 +- 10\n",
    "\n",
    "sub_kidpar = kd.kidpar.loc[kd.list_detector]\n",
    "\n",
    "pos = np.array([sub_kidpar[\"x0\"], sub_kidpar[\"y0\"]]) * 60  # arcmin\n",
    "fwhm = np.array(np.abs(sub_kidpar['fwhm_x']) + np.abs(sub_kidpar['fwhm_y']))/2 * 60\n",
    "ikid = np.where((np.sqrt(pos[0]**2 + pos[1]**2) < 60) & (np.abs(fwhm - 25) < 10))[0]"
   ]
  },
  {
   "cell_type": "code",
   "execution_count": null,
   "metadata": {},
   "outputs": [],
   "source": [
    "data, weight, hits = kd.continuum_map(coord='pdiff', ikid=ikid, cdelt=0.02)\n",
    "ax = plt.subplot(projection= WCS(data.header))\n",
    "ax.imshow(data.data, origin='lower', vmin=-1000, vmax=15000)\n",
    "ax.set_aspect(\"equal\")\n",
    "ax.set_xlim(10, 120)\n",
    "ax.set_ylim(50, 140)\n"
   ]
  },
  {
   "cell_type": "code",
   "execution_count": null,
   "metadata": {},
   "outputs": [],
   "source": [
    "import matplotlib.pyplot as plt\n",
    "import numpy as np"
   ]
  },
  {
   "cell_type": "code",
   "execution_count": null,
   "metadata": {},
   "outputs": [],
   "source": [
    "kd.kidfreq[:,:,0:135] = 0\n",
    "for _kidfreq, name in zip(kd.kidfreq[0:5], kd.list_detector[0:5]):\n",
    "    plt.plot(_kidfreq[0], alpha=0.5, label=name)\n",
    "plt.legend()"
   ]
  },
  {
   "cell_type": "code",
   "execution_count": null,
   "metadata": {},
   "outputs": [],
   "source": [
    "flat = kd.kidfreq.reshape(kd.ndet, -1)\n",
    "plt.imshow(np.corrcoef(flat[:, 0:1024*100]))\n",
    "plt.colorbar()"
   ]
  },
  {
   "cell_type": "code",
   "execution_count": null,
   "metadata": {},
   "outputs": [],
   "source": [
    "C_laser1_pos = kd.C_laser1_pos.reshape(-1, 1024)\n",
    "fig, ax1 = plt.subplots()\n",
    "for pos in C_laser1_pos[0:10]:\n",
    "    _ = ax1.plot(pos)\n",
    "\n",
    "A_masq = kd.A_masq.reshape(-1, 1024)\n",
    "ax2 = ax1.twinx()\n",
    "for mask in A_masq[0:10]: \n",
    "    ax2.plot(mask) "
   ]
  },
  {
   "cell_type": "code",
   "execution_count": null,
   "metadata": {},
   "outputs": [],
   "source": [
    "plt.imshow(C_laser1_pos-C_laser1_pos.mean(axis=0), aspect='auto')\n",
    "plt.colorbar()"
   ]
  }
 ],
 "metadata": {
  "kernelspec": {
   "display_name": "Python 3",
   "language": "python",
   "name": "python3"
  },
  "language_info": {
   "codemirror_mode": {
    "name": "ipython",
    "version": 3
   },
   "file_extension": ".py",
   "mimetype": "text/x-python",
   "name": "python",
   "nbconvert_exporter": "python",
   "pygments_lexer": "ipython3",
   "version": "3.7.3"
  }
 },
 "nbformat": 4,
 "nbformat_minor": 4
}
